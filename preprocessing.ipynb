{
  "nbformat": 4,
  "nbformat_minor": 0,
  "metadata": {
    "colab": {
      "provenance": [],
      "mount_file_id": "15Qjzf0VfrDow3cKsWbBGVaHIGOXGk7DX",
      "authorship_tag": "ABX9TyMtpGFHfhlYawSmoN04ePov",
      "include_colab_link": true
    },
    "kernelspec": {
      "name": "python3",
      "display_name": "Python 3"
    },
    "language_info": {
      "name": "python"
    }
  },
  "cells": [
    {
      "cell_type": "markdown",
      "metadata": {
        "id": "view-in-github",
        "colab_type": "text"
      },
      "source": [
        "<a href=\"https://colab.research.google.com/github/aronpwong/lhl-transportationanalysis/blob/main/preprocessing.ipynb\" target=\"_parent\"><img src=\"https://colab.research.google.com/assets/colab-badge.svg\" alt=\"Open In Colab\"/></a>"
      ]
    },
    {
      "cell_type": "code",
      "source": [
        "from google.colab import drive\n",
        "drive.mount('/content/drive')"
      ],
      "metadata": {
        "colab": {
          "base_uri": "https://localhost:8080/"
        },
        "id": "BEK2xClElDmE",
        "outputId": "dbc33fb0-31db-4164-a887-08d4e0be8a55"
      },
      "execution_count": 4,
      "outputs": [
        {
          "output_type": "stream",
          "name": "stdout",
          "text": [
            "Drive already mounted at /content/drive; to attempt to forcibly remount, call drive.mount(\"/content/drive\", force_remount=True).\n"
          ]
        }
      ]
    },
    {
      "cell_type": "code",
      "execution_count": 2,
      "metadata": {
        "id": "YhabKonuk-hX"
      },
      "outputs": [],
      "source": [
        "import pandas as pd"
      ]
    },
    {
      "cell_type": "code",
      "source": [
        "# Load the data\n",
        "ny_traffic = pd.read_csv('')\n",
        "ny_stations = pd.read_csv('/content/drive/MyDrive/Colab Notebooks/lhl-finalproject/station_lookup.csv')\n",
        "ny_census = pd.read_csv('/content/drive/MyDrive/Colab Notebooks/lhl-finalproject/NYC_neighborhood_census_data_2020.csv')\n",
        "mta_ridership = pd.read_csv('/content/drive/MyDrive/Colab Notebooks/lhl-finalproject/MTA_Daily_Ridership_Data__Beginning_2020_20240808.csv')\n",
        "transportation_stats = pd.read_csv('/content/drive/MyDrive/Colab Notebooks/lhl-finalproject/Monthly_Transportation_Statistics.csv')\n",
        "nyc_air = pd.read_csv('/content/drive/MyDrive/Colab Notebooks/lhl-finalproject/NYC_Air_Quality.csv')\n",
        "usa_pollution = pd.read_csv('/content/drive/MyDrive/Colab Notebooks/lhl-finalproject/USA_Pollution.csv')\n",
        "\n"
      ],
      "metadata": {
        "id": "7VReV7FD1hX9"
      },
      "execution_count": 3,
      "outputs": []
    },
    {
      "cell_type": "code",
      "source": [
        "# Remove duplicate rows\n",
        "ny_traffic.drop_duplicates(inplace=True)\n",
        "ny_stations.drop_duplicates(inplace=True)\n",
        "ny_census.drop_duplicates(inplace=True)\n",
        "mta_ridership.drop_duplicates(inplace=True)\n",
        "transportation_stats.drop_duplicates(inplace=True)\n",
        "nyc_air.drop_duplicates(inplace=True)\n",
        "usa_pollution.drop_duplicates(inplace=True)\n",
        "\n",
        "# Remove rows with any null values\n",
        "ny_traffic.dropna(inplace=True)\n",
        "ny_stations.drop_duplicates(inplace=True)\n",
        "ny_census.drop_duplicates(inplace=True)\n",
        "mta_ridership.dropna(inplace=True)\n",
        "transportation_stats.dropna(inplace=True)\n",
        "nyc_air.dropna(inplace=True)\n",
        "usa_pollution.dropna(inplace=True)"
      ],
      "metadata": {
        "id": "eX4aqtI7265F"
      },
      "execution_count": null,
      "outputs": []
    }
  ]
}